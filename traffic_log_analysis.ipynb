{
 "cells": [
  {
   "cell_type": "markdown",
   "metadata": {},
   "source": [
    "In this notebook we use the output of tcpdump to compute the amount of traffic generated during each of the experiments."
   ]
  },
  {
   "cell_type": "code",
   "execution_count": 1,
   "metadata": {},
   "outputs": [],
   "source": [
    "import pandas as pd"
   ]
  },
  {
   "cell_type": "code",
   "execution_count": 2,
   "metadata": {},
   "outputs": [],
   "source": [
    "sent_path = 'results/network_traffic/sent_cropped.txt'\n",
    "received_path = 'results/network_traffic/received_cropped.txt'"
   ]
  },
  {
   "cell_type": "code",
   "execution_count": 3,
   "metadata": {},
   "outputs": [],
   "source": [
    "sent_df = pd.read_csv(sent_path, sep=' ')\n",
    "received_df = pd.read_csv(received_path, sep=' ')"
   ]
  },
  {
   "cell_type": "code",
   "execution_count": 50,
   "metadata": {},
   "outputs": [],
   "source": [
    "dfs = (sent_df, received_df)"
   ]
  },
  {
   "cell_type": "code",
   "execution_count": 10,
   "metadata": {},
   "outputs": [],
   "source": [
    "for df in dfs:\n",
    "    df.columns = ['time', 'num_bytes']\n",
    "    df['time'] = pd.to_datetime(df['time'])"
   ]
  },
  {
   "cell_type": "code",
   "execution_count": 24,
   "metadata": {},
   "outputs": [
    {
     "data": {
      "text/plain": [
       "0            66:\n",
       "1            66:\n",
       "2           226:\n",
       "3            90:\n",
       "4            66:\n",
       "            ... \n",
       "59298434    226:\n",
       "59298435     82:\n",
       "59298436     66:\n",
       "59298437     66:\n",
       "59298438     66:\n",
       "Name: num_bytes, Length: 59298439, dtype: object"
      ]
     },
     "execution_count": 24,
     "metadata": {},
     "output_type": "execute_result"
    }
   ],
   "source": [
    "sent_df['num_bytes']"
   ]
  },
  {
   "cell_type": "code",
   "execution_count": 13,
   "metadata": {},
   "outputs": [],
   "source": [
    "sent_df.to_pickle('results/network_traffic/sent_df')"
   ]
  },
  {
   "cell_type": "code",
   "execution_count": 14,
   "metadata": {},
   "outputs": [],
   "source": [
    "received_df.to_pickle('results/network_traffic/received_df')"
   ]
  },
  {
   "cell_type": "code",
   "execution_count": 62,
   "metadata": {},
   "outputs": [],
   "source": [
    "sent_df = pd.read_pickle('results/network_traffic/sent_df')\n",
    "received_df = pd.read_pickle('results/network_traffic/received_df')"
   ]
  },
  {
   "cell_type": "code",
   "execution_count": 63,
   "metadata": {},
   "outputs": [],
   "source": [
    "sent_df['num_bytes'] = pd.to_numeric(sent_df['num_bytes'].map(lambda x: str(x)[:-1]), downcast='integer', errors='coerce')"
   ]
  },
  {
   "cell_type": "code",
   "execution_count": 66,
   "metadata": {},
   "outputs": [],
   "source": [
    "received_df['num_bytes'] = pd.to_numeric(received_df['num_bytes'].map(lambda x: str(x)[:-1]), downcast='integer', errors='coerce')"
   ]
  },
  {
   "cell_type": "code",
   "execution_count": 67,
   "metadata": {},
   "outputs": [
    {
     "data": {
      "text/plain": [
       "time         0\n",
       "num_bytes    0\n",
       "dtype: int64"
      ]
     },
     "execution_count": 67,
     "metadata": {},
     "output_type": "execute_result"
    }
   ],
   "source": [
    "received_df.isna().sum()"
   ]
  },
  {
   "cell_type": "code",
   "execution_count": 65,
   "metadata": {},
   "outputs": [
    {
     "data": {
      "text/plain": [
       "time         0\n",
       "num_bytes    0\n",
       "dtype: int64"
      ]
     },
     "execution_count": 65,
     "metadata": {},
     "output_type": "execute_result"
    }
   ],
   "source": [
    "sent_df.isna().sum()"
   ]
  },
  {
   "cell_type": "code",
   "execution_count": 70,
   "metadata": {},
   "outputs": [],
   "source": [
    "sent_df.to_pickle('results/network_traffic/sent_df')\n",
    "received_df.to_pickle('results/network_traffic/received_df')"
   ]
  },
  {
   "cell_type": "code",
   "execution_count": 101,
   "metadata": {},
   "outputs": [],
   "source": [
    "sent_df['seconds_to_next'] = pd.to_timedelta(sent_df['time'].shift(-1) - sent_df['time'])\n",
    "sent_df = sent_df.drop(columns=['time'])"
   ]
  },
  {
   "cell_type": "code",
   "execution_count": 105,
   "metadata": {},
   "outputs": [],
   "source": [
    "received_df['seconds_to_next'] = pd.to_timedelta(received_df['time'].shift(-1) - received_df['time'])\n",
    "received_df = received_df.drop(columns=['time'])"
   ]
  },
  {
   "cell_type": "code",
   "execution_count": 106,
   "metadata": {},
   "outputs": [],
   "source": [
    "sent_df['seconds_to_next'] = sent_df['seconds_to_next'].map(lambda x: x.total_seconds())\n",
    "received_df['seconds_to_next'] = received_df['seconds_to_next'].map(lambda x: x.total_seconds())"
   ]
  },
  {
   "cell_type": "code",
   "execution_count": 108,
   "metadata": {},
   "outputs": [
    {
     "data": {
      "text/html": [
       "<div>\n",
       "<style scoped>\n",
       "    .dataframe tbody tr th:only-of-type {\n",
       "        vertical-align: middle;\n",
       "    }\n",
       "\n",
       "    .dataframe tbody tr th {\n",
       "        vertical-align: top;\n",
       "    }\n",
       "\n",
       "    .dataframe thead th {\n",
       "        text-align: right;\n",
       "    }\n",
       "</style>\n",
       "<table border=\"1\" class=\"dataframe\">\n",
       "  <thead>\n",
       "    <tr style=\"text-align: right;\">\n",
       "      <th></th>\n",
       "      <th>num_bytes</th>\n",
       "      <th>seconds_to_next</th>\n",
       "    </tr>\n",
       "  </thead>\n",
       "  <tbody>\n",
       "    <tr>\n",
       "      <th>0</th>\n",
       "      <td>66</td>\n",
       "      <td>0.000192</td>\n",
       "    </tr>\n",
       "    <tr>\n",
       "      <th>1</th>\n",
       "      <td>289</td>\n",
       "      <td>0.000281</td>\n",
       "    </tr>\n",
       "    <tr>\n",
       "      <th>2</th>\n",
       "      <td>217</td>\n",
       "      <td>0.029285</td>\n",
       "    </tr>\n",
       "    <tr>\n",
       "      <th>3</th>\n",
       "      <td>66</td>\n",
       "      <td>0.000125</td>\n",
       "    </tr>\n",
       "    <tr>\n",
       "      <th>4</th>\n",
       "      <td>66</td>\n",
       "      <td>0.001321</td>\n",
       "    </tr>\n",
       "  </tbody>\n",
       "</table>\n",
       "</div>"
      ],
      "text/plain": [
       "   num_bytes  seconds_to_next\n",
       "0         66         0.000192\n",
       "1        289         0.000281\n",
       "2        217         0.029285\n",
       "3         66         0.000125\n",
       "4         66         0.001321"
      ]
     },
     "execution_count": 108,
     "metadata": {},
     "output_type": "execute_result"
    }
   ],
   "source": [
    "received_df.head()"
   ]
  },
  {
   "cell_type": "code",
   "execution_count": 109,
   "metadata": {},
   "outputs": [],
   "source": [
    "sent_df.to_pickle('results/network_traffic/sent_df')\n",
    "received_df.to_pickle('results/network_traffic/received_df')"
   ]
  },
  {
   "cell_type": "code",
   "execution_count": 114,
   "metadata": {},
   "outputs": [
    {
     "data": {
      "text/plain": [
       "36"
      ]
     },
     "execution_count": 114,
     "metadata": {},
     "output_type": "execute_result"
    }
   ],
   "source": [
    "(sent_df['seconds_to_next'] > 29).sum()"
   ]
  },
  {
   "cell_type": "code",
   "execution_count": 115,
   "metadata": {},
   "outputs": [
    {
     "data": {
      "text/plain": [
       "36"
      ]
     },
     "execution_count": 115,
     "metadata": {},
     "output_type": "execute_result"
    }
   ],
   "source": [
    "(received_df['seconds_to_next'] > 29).sum()"
   ]
  },
  {
   "cell_type": "code",
   "execution_count": 121,
   "metadata": {},
   "outputs": [],
   "source": [
    "sent_cutoffs = sent_df.index[sent_df['seconds_to_next'] > 29].to_list()\n",
    "received_cutoffs =  received_df.index[received_df['seconds_to_next'] > 29].to_list()"
   ]
  },
  {
   "cell_type": "code",
   "execution_count": 128,
   "metadata": {},
   "outputs": [],
   "source": [
    "# The last index\n",
    "sent_cutoffs.append(sent_df.index.stop - 1)\n",
    "received_cutoffs.append(received_df.index.stop - 1)"
   ]
  },
  {
   "cell_type": "code",
   "execution_count": 131,
   "metadata": {},
   "outputs": [],
   "source": [
    "sent_sums = []\n",
    "start = 0\n",
    "for end in sent_cutoffs:\n",
    "    sent_sums.append(sent_df['num_bytes'][start:end+1].sum())\n",
    "    start = end"
   ]
  },
  {
   "cell_type": "code",
   "execution_count": 133,
   "metadata": {},
   "outputs": [],
   "source": [
    "received_sums = []\n",
    "start = 0\n",
    "for end in received_cutoffs:\n",
    "    received_sums.append(received_df['num_bytes'][start:end+1].sum())\n",
    "    start = end"
   ]
  },
  {
   "cell_type": "code",
   "execution_count": 137,
   "metadata": {},
   "outputs": [],
   "source": [
    "pd.DataFrame(data={\"_\": sent_sums}).to_csv(\"results/network_traffic/sent_summed.csv\", sep='\\n',index=False, header=False)"
   ]
  },
  {
   "cell_type": "code",
   "execution_count": 138,
   "metadata": {},
   "outputs": [],
   "source": [
    "pd.DataFrame(data={\"_\": received_sums}).to_csv(\"results/network_traffic/received_summed.csv\", sep='\\n',index=False, header=False)"
   ]
  },
  {
   "cell_type": "code",
   "execution_count": 139,
   "metadata": {},
   "outputs": [],
   "source": [
    "sent_sums = sent_sums[1:]\n",
    "received_sums = received_sums[1:]"
   ]
  },
  {
   "cell_type": "markdown",
   "metadata": {},
   "source": [
    "We create one file for each experiment, to match the scheme of the runtime data."
   ]
  },
  {
   "cell_type": "code",
   "execution_count": 141,
   "metadata": {},
   "outputs": [],
   "source": [
    "from experiment_params import d_list, m_list, n_log_list, private_list\n",
    "import itertools"
   ]
  },
  {
   "cell_type": "code",
   "execution_count": 145,
   "metadata": {},
   "outputs": [],
   "source": [
    "i = 0\n",
    "for d, m, private, n_log in itertools.product(d_list, m_list, private_list, n_log_list):\n",
    "    base_path = 'results/network_traffic/d-{}_m-{}_n-{}_{}_'.format(d, m, n_log, private)\n",
    "    with open(base_path + 'sent.txt', 'w') as sent_summed_file:\n",
    "        sent_summed_file.write(str(sent_sums[i]))\n",
    "    with open(base_path + 'received.txt', 'w') as received_summed_file:\n",
    "        received_summed_file.write(str(received_sums[i]))\n",
    "    i += 1"
   ]
  },
  {
   "cell_type": "code",
   "execution_count": null,
   "metadata": {},
   "outputs": [],
   "source": []
  }
 ],
 "metadata": {
  "kernelspec": {
   "display_name": "Python 3",
   "language": "python",
   "name": "python3"
  },
  "language_info": {
   "codemirror_mode": {
    "name": "ipython",
    "version": 3
   },
   "file_extension": ".py",
   "mimetype": "text/x-python",
   "name": "python",
   "nbconvert_exporter": "python",
   "pygments_lexer": "ipython3",
   "version": "3.7.5"
  }
 },
 "nbformat": 4,
 "nbformat_minor": 4
}
